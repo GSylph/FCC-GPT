{
 "cells": [
  {
   "cell_type": "code",
   "execution_count": 19,
   "metadata": {},
   "outputs": [
    {
     "name": "stdout",
     "output_type": "stream",
     "text": [
      "cuda\n"
     ]
    }
   ],
   "source": [
    "import torch\n",
    "import torch.nn as nn\n",
    "from torch.nn import functional as F\n",
    "device='cuda' if torch.cuda.is_available() else ''\n",
    "print(device)\n",
    "block_size=8\n",
    "batch_size=4\n",
    "max_iters = 1000\n",
    "learning_rate = 3e-4\n",
    "eval_iters=250\n"
   ]
  },
  {
   "cell_type": "code",
   "execution_count": 20,
   "metadata": {},
   "outputs": [
    {
     "name": "stdout",
     "output_type": "stream",
     "text": [
      "['\\n', ' ', '!', '\"', '&', \"'\", '(', ')', '*', ',', '-', '.', '0', '1', '2', '3', '4', '5', '6', '7', '8', '9', ':', ';', '?', 'A', 'B', 'C', 'D', 'E', 'F', 'G', 'H', 'I', 'J', 'K', 'L', 'M', 'N', 'O', 'P', 'Q', 'R', 'S', 'T', 'U', 'V', 'W', 'X', 'Y', 'Z', '[', ']', '_', 'a', 'b', 'c', 'd', 'e', 'f', 'g', 'h', 'i', 'j', 'k', 'l', 'm', 'n', 'o', 'p', 'q', 'r', 's', 't', 'u', 'v', 'w', 'x', 'y', 'z', '\\ufeff']\n"
     ]
    }
   ],
   "source": [
    "with open('wizard_of_oz.txt','r',encoding='utf-8') as f:\n",
    "    text=f.read()\n",
    "chars = sorted(set(text))\n",
    "print(chars)\n",
    "vocab_size=len(chars)"
   ]
  },
  {
   "cell_type": "code",
   "execution_count": 21,
   "metadata": {},
   "outputs": [],
   "source": [
    "string_to_int = {ch:i for i, ch in enumerate(chars)}\n",
    "int_to_string = {i:ch for i, ch in enumerate(chars)}\n",
    "encode = lambda s:[string_to_int[c] for c in s]\n",
    "decode = lambda l:''.join([int_to_string[i] for i in l]) \n",
    "\n",
    "data = torch.tensor(encode(text), dtype=torch.long)"
   ]
  },
  {
   "cell_type": "code",
   "execution_count": 22,
   "metadata": {},
   "outputs": [
    {
     "name": "stdout",
     "output_type": "stream",
     "text": [
      "inputs:\n",
      "tensor([[72,  1, 76, 58,  1, 76, 58, 71],\n",
      "        [54, 72,  1, 73, 61, 58,  1, 71],\n",
      "        [75, 62, 67, 60,  1, 67, 68,  1],\n",
      "        [55, 58,  0, 58, 72, 69, 58, 56]], device='cuda:0')\n",
      "targets:\n",
      "tensor([[ 1, 76, 58,  1, 76, 58, 71, 58],\n",
      "        [72,  1, 73, 61, 58,  1, 71, 58],\n",
      "        [62, 67, 60,  1, 67, 68,  1, 71],\n",
      "        [58,  0, 58, 72, 69, 58, 56, 62]], device='cuda:0')\n"
     ]
    }
   ],
   "source": [
    "n = int(0.8*len(data))\n",
    "train_data=data[:n]\n",
    "val_data=data[n:]\n",
    " \n",
    "def get_batch(split):\n",
    "    data=train_data if split == 'train' else val_data\n",
    "    ix = torch.randint(len(data)-block_size,(batch_size,))\n",
    "    x = torch.stack([data[i:i+block_size] for i in ix])\n",
    "    y = torch.stack([data[i+1:i+block_size+1] for i in ix])\n",
    "    x,y=x.to(device),y.to(device)\n",
    "    return x, y\n",
    "\n",
    "x,y = get_batch('train')\n",
    "print('inputs:')\n",
    "print(x)\n",
    "print('targets:')\n",
    "print(y)                                                                                                                                           "
   ]
  },
  {
   "cell_type": "code",
   "execution_count": 27,
   "metadata": {},
   "outputs": [],
   "source": [
    "@torch.no_grad()\n",
    "def estimate_loss():\n",
    "    out={}\n",
    "    model.eval()\n",
    "    for split in ['train','val']:\n",
    "        losses = torch.zeros(eval_iters)\n",
    "        for k in range(eval_iters):\n",
    "            X,Y=get_batch(split)\n",
    "            logits,loss=model(X,Y)\n",
    "            losses[k]=loss.item()\n",
    "        out[split]=losses.mean()\n",
    "    model.train()\n",
    "    return out"
   ]
  },
  {
   "cell_type": "code",
   "execution_count": 28,
   "metadata": {},
   "outputs": [
    {
     "name": "stdout",
     "output_type": "stream",
     "text": [
      "\n",
      "izqQrHgE)sKaLm:FLyIpx(cRo)II::M:N;nf?t:N!QaE*Ev\n",
      "wdEo﻿6d_S'ze2hGU-uS1GLia,yTmA5!,iXK9xgn[j.Gn5QZO!5prWOozV)uJ*Wx(4_0Tk3r[Osw8kNO1u90*6Cj[RN]O44sz;S_7QJAPk:EX8ovkNOyMq K7jL.\n",
      "Eo3 -!oLt2k:jrHor\"?H:I_H7-W*3kG1uPdeft-,3)R4zet9M﻿H4MN_JeAl﻿A)0Fv5vMI:v][GAP!P1J﻿qu5]Juquvg!Kv!NTG[Yn'pd[n'Qa-\"rHO0u5rZoy﻿fAZak[S )Qj[JMuqH*Q70Em,iz(])KwUH0vHYYyF?!0TM2(]YO8﻿lbvG:m\n",
      "H?6﻿5XkN:EVt9?1FOiPi(AM?AZy9znPcO9FT5p&mT8a﻿uszn'(Z-,g1YD,4y(v5I3vEoh9\"qy3]J*Sk9O8fCD.C44_K﻿dTCV8eW7pyyRCVfd_7V0GsuOs)m*]J5﻿il5\n",
      "j:mQS\n",
      "jj1,R﻿_pyeyxk\n"
     ]
    }
   ],
   "source": [
    "class BigramLanguageModel(nn.Module):\n",
    "    def __init__(self,vocab_size):\n",
    "        super().__init__()\n",
    "        self.token_embedding_table=nn.Embedding(vocab_size,vocab_size)\n",
    "    def forward(self,index,targets=None):\n",
    "        logits=self.token_embedding_table(index)\n",
    "        if targets is None:\n",
    "            loss = None\n",
    "        else:\n",
    "            B,T,C=logits.shape\n",
    "            logits=logits.view(B*T,C)\n",
    "            targets=targets.view(B*T)\n",
    "            loss=F.cross_entropy(logits,targets)\n",
    "        return logits,loss\n",
    "    def generate(self,index,max_new_tokens):\n",
    "        #index is (B,T) array of indices of current context\n",
    "        for _ in range(max_new_tokens):\n",
    "            #get the predictions\n",
    "            logits,loss = self.forward(index)\n",
    "            #focus only on the last time step\n",
    "            logits=logits[:,-1,:] #becomes (B,C)\n",
    "            #apply softmax to get the probabilities\n",
    "            probs=F.softmax(logits,dim=-1) #(B,C)\n",
    "            #sample from the distribution\n",
    "            index_next = torch.multinomial(probs,num_samples=1) #(B,1)\n",
    "            #append sampled index to the running sequence\n",
    "            index=torch.cat((index,index_next),dim=1)#(B,T+1)\n",
    "        return index\n",
    "model = BigramLanguageModel(vocab_size)\n",
    "m=model.to(device)\n",
    "context=torch.zeros((1,1),dtype=torch.long,device=device)\n",
    "generated_chars=decode(m.generate(context,max_new_tokens=500)[0].tolist())\n",
    "print(generated_chars)"
   ]
  },
  {
   "cell_type": "code",
   "execution_count": 36,
   "metadata": {},
   "outputs": [
    {
     "name": "stdout",
     "output_type": "stream",
     "text": [
      "step: 0, train loss: 3.866, val loss: 3.879\n",
      "step: 250, train loss: 3.816, val loss: 3.855\n",
      "step: 500, train loss: 3.765, val loss: 3.800\n",
      "step: 750, train loss: 3.726, val loss: 3.780\n",
      "3.9260165691375732\n"
     ]
    }
   ],
   "source": [
    "#Create a Pytorch optimizer\n",
    "optimizer = torch.optim.Adam(model.parameters(),lr=learning_rate)\n",
    "for iter in range(max_iters):\n",
    "    if iter%eval_iters==0:\n",
    "        losses=estimate_loss()\n",
    "        print(f\"step: {iter}, train loss: {losses['train']:.3f}, val loss: {losses['val']:.3f}\")\n",
    "\n",
    "    #sample a batch of data\n",
    "    xb,yb=get_batch('train')\n",
    "\n",
    "    #evaluate the loss\n",
    "    logits,loss =  model.forward(xb,yb)\n",
    "    optimizer.zero_grad(set_to_none=True)\n",
    "    loss.backward()\n",
    "    optimizer.step()\n",
    "print(loss.item())"
   ]
  },
  {
   "cell_type": "code",
   "execution_count": null,
   "metadata": {},
   "outputs": [],
   "source": []
  }
 ],
 "metadata": {
  "kernelspec": {
   "display_name": "cuda",
   "language": "python",
   "name": "python3"
  },
  "language_info": {
   "codemirror_mode": {
    "name": "ipython",
    "version": 3
   },
   "file_extension": ".py",
   "mimetype": "text/x-python",
   "name": "python",
   "nbconvert_exporter": "python",
   "pygments_lexer": "ipython3",
   "version": "3.10.11"
  }
 },
 "nbformat": 4,
 "nbformat_minor": 4
}
